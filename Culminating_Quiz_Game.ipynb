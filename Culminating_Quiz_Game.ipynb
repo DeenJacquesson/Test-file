{
  "nbformat": 4,
  "nbformat_minor": 0,
  "metadata": {
    "colab": {
      "provenance": [],
      "authorship_tag": "ABX9TyMRuiQwzVtcMzXRFQu/IHdd",
      "include_colab_link": true
    },
    "kernelspec": {
      "name": "python3",
      "display_name": "Python 3"
    },
    "language_info": {
      "name": "python"
    }
  },
  "cells": [
    {
      "cell_type": "markdown",
      "metadata": {
        "id": "view-in-github",
        "colab_type": "text"
      },
      "source": [
        "<a href=\"https://colab.research.google.com/github/DeenJacquesson/Test-file/blob/main/Culminating_Quiz_Game.ipynb\" target=\"_parent\"><img src=\"https://colab.research.google.com/assets/colab-badge.svg\" alt=\"Open In Colab\"/></a>"
      ]
    },
    {
      "cell_type": "code",
      "execution_count": 11,
      "metadata": {
        "id": "SE7EW_KjViOt",
        "colab": {
          "base_uri": "https://localhost:8080/"
        },
        "outputId": "135afd7b-1c6e-4a5a-e5a3-77f6eede3351"
      },
      "outputs": [
        {
          "output_type": "stream",
          "name": "stdout",
          "text": [
            "Enter your name: Deen\n",
            "What is the capital of Japan? Tokyo\n",
            "Correct!\n",
            "What is the capital of France? Paris\n",
            "Correct!\n",
            "What is the capital of Italy? Rome\n",
            "Correct!\n",
            "What is the capital of Germany? Berlin\n",
            "Correct!\n",
            "What is the capital of Italy? Rome\n",
            "Correct!\n",
            "\n",
            "Deen, your final score is: 5/5\n"
          ]
        }
      ],
      "source": [
        "import random\n",
        "class QuizGame:\n",
        "    def __init__(self):\n",
        "        self.capitals = {\n",
        "            'France': 'Paris',\n",
        "            'Germany': 'Berlin',\n",
        "            'Italy': 'Rome',\n",
        "            'Japan': 'Tokyo',\n",
        "            'Canada': 'Ottawa',\n",
        "        }\n",
        "\n",
        "    def get_random_question(self):\n",
        "        country = random.choice(list(self.capitals.keys()))\n",
        "        correct_answer = self.capitals[country]\n",
        "        return country, correct_answer\n",
        "\n",
        "    def play_game(self):\n",
        "        user_name = input(\"Enter your name: \")\n",
        "        score = 0\n",
        "\n",
        "        for _ in range(5):\n",
        "            country, correct_answer = self.get_random_question()\n",
        "            user_answer = input(f\"What is the capital of {country}? \").strip()\n",
        "\n",
        "            if user_answer.lower() == correct_answer.lower():\n",
        "                print(\"Correct!\")\n",
        "                score += 1\n",
        "            else:\n",
        "                print(f\"Wrong! The correct answer is {correct_answer}.\")\n",
        "\n",
        "        print(f\"\\n{user_name}, your final score is: {score}/5\")\n",
        "\n",
        "if __name__ == \"__main__\":\n",
        "    quiz_game = QuizGame()\n",
        "    quiz_game.play_game()"
      ]
    }
  ]
}